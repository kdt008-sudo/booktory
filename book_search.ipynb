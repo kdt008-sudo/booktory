{
 "cells": [
  {
   "cell_type": "code",
   "execution_count": 6,
   "id": "d14b4b57",
   "metadata": {},
   "outputs": [
    {
     "name": "stdout",
     "output_type": "stream",
     "text": [
      "✅ 데이터 준비 완료!\n",
      "✅ 순수 검색 준비 완료!\n",
      "\n",
      "✅ API 호출 없이 CSV 파일 내에서만 검색합니다.\n",
      "   (종료하려면 'exit' 입력)\n",
      "\n",
      "--- 📚 '전래동화 추천해줘'에 대한 검색 결과 ---\n",
      "1. 똥벼락 : '똥과 도깨비'라는 전래동화의 소재를 절묘하게 조화시킨 그림 동화집. 옛날 옛그림을 연상시키는 그림체가 화면을 가득 채우고, 단순하면서도 옛이야기 특유의 과장을 살린 글솜씨가 돋보이는 그림책이다.\n",
      "2. 돌이 척척 개구리 킁킁 : 수북수북 옛이야기 시리즈. 따스한 한지 인형과 구수한 입말이 어우러진 옛이야기 그림책이다. ‘돌이 척척 개구리 킁킁’ 이야기를 들려주신 분은 경기도 여주읍의 안평국 할아버지신데, 익살맞고 구수한 입말이 이야기의 재미를 한층 더해 주고 있다.\n",
      "3. 지각대장 존 : 얼른 보면 재미만 노리는 동화처럼 보인다．그러나 한 두 번 반복해서 읽으면 중요한 의미가 암시되고 있는，하나의 중요한 교훈이 담긴 동화라는 것을 알게 된다．어린 아이의 사정이 어른의 눈에는 무의미할지 모르나 하늘의 눈에는 소중한 것이라는 사실을 가르치는 교훈이다.\n",
      "4. 개와 고양이 : 옛이야기의 원형에 가장 가깝다는 평가를 받고 있는 &lt;조선전래동화집&gt;을 원전으로, 아이들의 눈높이에 맞추어 엮은 옛이야기 그림책. 동화 작가들이 박영만의 작가적 개성과 세계관 등이 맛깔스럽게 녹아 있는 원작의 표현과 말투를 잘 살리면서도 그림책을 읽는 어린이들에게 맞추어 솜씨 있게 다듬었다.\n",
      "\n",
      "--- 📚 '공룡책 추천해줘'에 대한 검색 결과 ---\n",
      "1. 배드 가이즈 : 전 세계 40개국 어린이들이 빠져든 화제의 시리즈&#x0D;the BAD GUYS 한국어판 출간!&#x0D;&#x0D;이걸 읽고 웃음 참을 수 있는 사람 있으면 나와 보시길.&#x0D;-[커커스 리뷰]&#x0D;&#x0D;그림책 다음 단계로 넘어가는 아이들, 책 읽기 좋아하고 웃기 좋아하는 아이들에게 추천한다. 잠들기 전 아이들과 함께 읽을 책을...\n",
      "2. 오싹오싹 팬티! : 토토의 그림책 시리즈. 2013년 &lt;오싹오싹 당근&gt;으로 칼데콧 아너상을 수상한 작가 에런 레이놀즈와 피터 브라운 콤비의 작품이다. 출간과 동시에 뉴욕타임스 베스트셀러, 아마존 그림책 베스트셀러로 자리 매김한 화제의 그림책이다.\n",
      "3. (같을까? 다를까?) 개구리와 도롱뇽 : 바람 그림책 시리즈 44권. 양서류의 두 개체, 개구리와 도롱뇽을 다룬 그림책으로 어떻게 알을 깨고 나와 자라는지, 어떤 먹이를 먹는지, 어떤 모습으로 변하는지 설명해 주고 있다.\n",
      "4. 괴물이 나타났다! =Monster! monster? : 소문이 만들어내는 오해와 상상의 재미를 유머와 재치로 풀어낸 그림책이다. 한편으로 이 책은 소문의 와전을 통해 다양한 소통의 문제를 다루고 있다. 어린이들은 이 책을 읽고 웃다가 언젠가 문득 이 책의 깊은 의미를 발견할 것이다.\n",
      "🤖 검색기: 이용해주셔서 감사합니다!\n"
     ]
    }
   ],
   "source": [
    "# 1. 필요 라이브러리 설치\n",
    "# !pip install jupyter langchain-community langchain-pinecone pinecone-client sentence-transformers torch python-dotenv\n",
    "\n",
    "# 2. 라이브러리 임포트\n",
    "import pandas as pd\n",
    "from langchain_community.document_loaders import DataFrameLoader\n",
    "from langchain_community.embeddings import HuggingFaceEmbeddings\n",
    "from langchain_pinecone import PineconeVectorStore\n",
    "from pinecone import Pinecone, ServerlessSpec\n",
    "import os\n",
    "from dotenv import load_dotenv\n",
    "\n",
    "# --- API 키 설정 ---\n",
    "load_dotenv()\n",
    "\n",
    "# --- 데이터 및 벡터 스토어 준비 ---\n",
    "try:\n",
    "    chbook_info_df = pd.read_csv('chbook_info1358.csv')\n",
    "    childrenbook_df = pd.read_csv('childrenbook.csv')\n",
    "    merged_df = pd.merge(childrenbook_df, chbook_info_df, on='isbn13')\n",
    "    merged_df['addition_symbol'] = merged_df['addition_symbol'].astype(str)\n",
    "    filtered_df = merged_df[merged_df['addition_symbol'].str.startswith(('6', '7'))].copy()\n",
    "    \n",
    "    # 검색 정확도를 높이기 위해 책 제목, 설명, 키워드를 모두 사용합니다.\n",
    "    filtered_df['text_for_embedding'] = filtered_df['bookname'] + \" \" + filtered_df['description'].fillna('').str.replace('\\r\\n', ' ', regex=False) + ' ' + filtered_df['keyword'].fillna('')\n",
    "    filtered_df = filtered_df.fillna('')\n",
    "    loader = DataFrameLoader(filtered_df, page_content_column='text_for_embedding')\n",
    "    documents = loader.load()\n",
    "    print(\"✅ 데이터 준비 완료!\")\n",
    "except FileNotFoundError as e:\n",
    "    print(\"🚨 파일 로딩 오류: chbook_info.csv와 childrenbook.csv 파일이 .ipynb 파일과 같은 폴더에 있는지 확인해주세요.\")\n",
    "    exit()\n",
    "\n",
    "model_name_for_embedding = \"jhgan/ko-sroberta-nli\"\n",
    "hf_embeddings = HuggingFaceEmbeddings(model_name=model_name_for_embedding)\n",
    "index_name = \"children-books\"\n",
    "\n",
    "pc = Pinecone(api_key=os.environ.get(\"PINECONE_API_KEY\"))\n",
    "\n",
    "if index_name not in pc.list_indexes().names():\n",
    "    # print(f\"Pinecone 인덱스 '{index_name}'를 새로 생성합니다...\")\n",
    "    pc.create_index(name=index_name, dimension=768, metric=\"cosine\", spec=ServerlessSpec(cloud='aws', region='us-east-1'))\n",
    "    # print(f\"✅ 인덱스 생성 완료. 데이터 저장을 시작합니다...\")\n",
    "    PineconeVectorStore.from_documents(documents=documents, embedding=hf_embeddings, index_name=index_name)\n",
    "    # print(\"✅ 데이터 저장 완료!\")\n",
    "else:\n",
    "    # print(f\"✅ 기존 인덱스 '{index_name}'를 사용합니다.\")\n",
    "    pass\n",
    "\n",
    "vectorstore = PineconeVectorStore(index_name=index_name, embedding=hf_embeddings)\n",
    "# ⭐️ LLM 없이 순수 검색만 수행할 '검색기'를 준비합니다.\n",
    "retriever = vectorstore.as_retriever(search_kwargs={'k': 4}) # 검색할 책의 개수 (4개)\n",
    "print(f\"✅ 순수 검색 준비 완료!\")\n",
    "\n",
    "\n",
    "# --- 💬 순수 검색 실행 ---\n",
    "print(\"\\n✅ API 호출 없이 CSV 파일 내에서만 검색합니다.\")\n",
    "print(\"   (종료하려면 'exit' 입력)\")\n",
    "\n",
    "while True:\n",
    "    try:\n",
    "        user_input = input(\"\\n👤 당신: \")\n",
    "        if user_input.lower() == 'exit':\n",
    "            print(\"🤖 검색기: 이용해주셔서 감사합니다!\")\n",
    "            break\n",
    "\n",
    "        # retriever를 사용해 Pinecone에서 유사도가 높은 문서를 검색합니다.\n",
    "        retrieved_docs = retriever.invoke(user_input)\n",
    "\n",
    "        print(f\"\\n--- 📚 '{user_input}'에 대한 검색 결과 ---\")\n",
    "        if not retrieved_docs:\n",
    "            print(\"검색된 책이 없습니다.\")\n",
    "        else:\n",
    "            # ⭐️ 사용자님이 원하신 형식으로 출력합니다\n",
    "            for i, doc in enumerate(retrieved_docs):\n",
    "                # doc.metadata는 CSV의 한 행에 해당하는 모든 정보를 담고 있습니다.\n",
    "                book_title = doc.metadata.get('bookname', '제목 없음')\n",
    "                description = doc.metadata.get('description', '내용 없음')\n",
    "                print(f\"{i+1}. {book_title} : {description}\")\n",
    "\n",
    "    except Exception as e:\n",
    "        print(f\"🚨 검색 중 오류가 발생했습니다: {e}\")\n",
    "        break"
   ]
  },
  {
   "cell_type": "code",
   "execution_count": 5,
   "id": "bd08c0c1",
   "metadata": {},
   "outputs": [
    {
     "name": "stdout",
     "output_type": "stream",
     "text": [
      "Index(['no', 'ranking', 'bookname', 'authors', 'publisher', 'publication_year',\n",
      "       'isbn13', 'addition_symbol', 'vol', 'class_no', 'class_nm',\n",
      "       'bookImageURL', 'bookDtlUrl', 'description', 'loanCnt', 'keyword'],\n",
      "      dtype='object')\n"
     ]
    }
   ],
   "source": [
    "print(merged_df.columns)"
   ]
  },
  {
   "cell_type": "code",
   "execution_count": null,
   "id": "400e46d8",
   "metadata": {},
   "outputs": [],
   "source": []
  }
 ],
 "metadata": {
  "kernelspec": {
   "display_name": "Python 3",
   "language": "python",
   "name": "python3"
  },
  "language_info": {
   "codemirror_mode": {
    "name": "ipython",
    "version": 3
   },
   "file_extension": ".py",
   "mimetype": "text/x-python",
   "name": "python",
   "nbconvert_exporter": "python",
   "pygments_lexer": "ipython3",
   "version": "3.10.10"
  }
 },
 "nbformat": 4,
 "nbformat_minor": 5
}
